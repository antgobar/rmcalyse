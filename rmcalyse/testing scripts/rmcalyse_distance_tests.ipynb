{
 "cells": [
  {
   "cell_type": "code",
   "execution_count": 2,
   "metadata": {
    "collapsed": true
   },
   "outputs": [],
   "source": [
    "import numpy as np\n",
    "import matplotlib.pyplot as plt\n",
    "import time as t"
   ]
  },
  {
   "cell_type": "code",
   "execution_count": 3,
   "metadata": {
    "collapsed": false
   },
   "outputs": [],
   "source": [
    "atom_list = [['A', 1, 0, 0, 0],\n",
    "             ['B', 2, 0, 0, 1],\n",
    "             ['C', 3, 0, 1, 1],\n",
    "             ['D', 4, 1, 1 ,1],\n",
    "             ['E', 5, 0, 0, 2]]\n",
    "\n",
    "positions = np.array(atom_list)[:, 2:5]\n",
    "positions = np.float64(positions)\n",
    "\n",
    "labels = np.array(atom_list)[:, :2]\n"
   ]
  },
  {
   "cell_type": "code",
   "execution_count": 4,
   "metadata": {
    "collapsed": false
   },
   "outputs": [],
   "source": [
    "### Distance functions\n",
    "\n",
    "# Nested loop\n",
    "def ed_nested(positions):\n",
    "    distances = []    \n",
    "    for positionA in positions:\n",
    "            a = np.array(positionA)\n",
    "            for positionB in positions:\n",
    "                b = np.array(positionB)\n",
    "                distance = np.linalg.norm(a-b)\n",
    "                distances.append(distance)\n",
    "    return distances\n",
    "\n",
    "# Matrix mult\n",
    "def ed_matrix(positions):\n",
    "    distances  = []\n",
    "    for position in positions:\n",
    "        net = position - positions\n",
    "        s = np.dot(net, net.T)\n",
    "        distance = np.diagonal(np.sqrt(np.sqrt(s**2)))\n",
    "        distances.append(distance)\n",
    "    \n",
    "    return distances"
   ]
  },
  {
   "cell_type": "code",
   "execution_count": 5,
   "metadata": {
    "collapsed": false
   },
   "outputs": [],
   "source": [
    "# timing\n",
    "def time_funcs(max_atoms, step):\n",
    "    times_nested = []\n",
    "    times_matrix = []\n",
    "    \n",
    "    iterations = range(1, max_atoms + step, step)\n",
    "    \n",
    "    for i in iterations:\n",
    "        positions = np.random.rand(i,3)\n",
    "        \n",
    "        start_nested = t.time()\n",
    "        d = ed_nested(positions)\n",
    "        total_nested = t.time() - start_nested\n",
    "        times_nested.append(total_nested)\n",
    "        \n",
    "        \n",
    "        start_matrix = t.time()\n",
    "        d = ed_matrix(positions)\n",
    "        total_matrix = t.time() - start_matrix\n",
    "        times_matrix.append(total_matrix)\n",
    "    \n",
    "    atom_number = list(iterations)\n",
    "    \n",
    "    return atom_number, times_nested, times_matrix    "
   ]
  },
  {
   "cell_type": "code",
   "execution_count": 6,
   "metadata": {
    "collapsed": false
   },
   "outputs": [],
   "source": [
    "atom_number, times_nested, times_matrix = time_funcs(1000, 200)"
   ]
  },
  {
   "cell_type": "code",
   "execution_count": 8,
   "metadata": {
    "collapsed": false
   },
   "outputs": [
    {
     "data": {
      "image/png": "[encoded data removed]",
      "text/plain": [
       "<Figure size 432x288 with 1 Axes>"
      ]
     },
     "metadata": {
      "needs_background": "light"
     },
     "output_type": "display_data"
    }
   ],
   "source": [
    "total_time = round((sum(times_nested) + sum(times_matrix))/60, 2)\n",
    "\n",
    "unit_cell_no = np.array(atom_number) / 5\n",
    "supercell_size = unit_cell_no ** (1/3)\n",
    "\n",
    "#comparing both data\n",
    "abs_diff = abs(np.log(times_nested) - np.log(times_matrix)).tolist()\n",
    "cross_over = atom_number[abs_diff.index(min(abs_diff))]\n",
    "\n",
    "\n",
    "plt.plot(atom_number, times_nested, label = 'nested')\n",
    "plt.plot(atom_number, times_matrix, label = 'matrix')\n",
    "plt.xlabel('no of atoms')\n",
    "plt.ylabel('time taken (s)')\n",
    "#plt.yscale('log')\n",
    "plt.legend()\n",
    "plt.title(f'''total time = {total_time} min\n",
    "crossover ~{cross_over} atoms''')\n",
    "plt.show()"
   ]
  },
  {
   "cell_type": "code",
   "execution_count": null,
   "metadata": {
    "collapsed": true
   },
   "outputs": [],
   "source": []
  }
 ],
 "metadata": {
  "kernelspec": {
   "display_name": "Python 3",
   "language": "python",
   "name": "python3"
  },
  "language_info": {
   "codemirror_mode": {
    "name": "ipython",
    "version": 3
   },
   "file_extension": ".py",
   "mimetype": "text/x-python",
   "name": "python",
   "nbconvert_exporter": "python",
   "pygments_lexer": "ipython3",
   "version": "3.8.1"
  }
 },
 "nbformat": 4,
 "nbformat_minor": 4
}
