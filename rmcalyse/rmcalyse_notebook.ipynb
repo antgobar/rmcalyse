{
 "cells": [
  {
   "cell_type": "code",
   "execution_count": 1,
   "metadata": {
    "collapsed": false
   },
   "outputs": [
    {
     "name": "stdout",
     "output_type": "stream",
     "text": [
      "\n",
      " ====================================================================\n",
      "\n",
      " 8888888b. 888b     d888 .d8888b.         888                        \n",
      " 888   Y88b8888b   d8888d88P  Y88b        888                        \n",
      " 888    88888888b.d88888888    888        888                        \n",
      " 888   d88P888Y88888P888888        8888b. 888888  888.d8888b  .d88b. \n",
      " 8888888P\" 888 Y888P 888888           \"88b888888  88888K     d8P  Y8b\n",
      " 888 T88b  888  Y8P  888888    888.d888888888888  888\"Y8888b.88888888\n",
      " 888  T88b 888   \"   888Y88b  d88P888  888888Y88b 888     X88Y8b.    \n",
      " 888   T88b888       888 \"Y8888P\" \"Y888888888 \"Y88888 88888P' \"Y8888 \n",
      "                                                   888               \n",
      "                                              Y8b d88P               \n",
      "                                               \"Y88P\"                \n",
      " ====================================================================\n",
      " ------------- A toolbox for analysing RMCProfile outputs -----------\n",
      " --------------------------------------------------------------------\n",
      " ------------------------ Anton Goetzee-Barral ----------------------\n",
      " ---------------------------- Wesley Surta --------------------------\n",
      " ---------------------------- Dean Keeble ---------------------------\n",
      " ====================================================================\n",
      "\n",
      "[['1' 'Pb' '[4]' '0.997240093894075' '0.187792003843525'\n",
      "  '0.432667741982493' '4' '3' '1' '3']\n",
      " ['2' 'Pb' '[4]' '0.616430321024855' '0.111647952005709'\n",
      "  '0.141598303733313' '2' '2' '0' '1']\n",
      " ['3' 'Pb' '[2]' '0.995130841179981' '0.317280067229452'\n",
      "  '0.987099663943968' '4' '3' '2' '0']\n",
      " ['4' 'Pb' '[4]' '0.501844480559483' '0.810343431957461'\n",
      "  '0.642903392070765' '3' '1' '5' '4']\n",
      " ['5' 'Pb' '[1]' '0.369808601994616' '0.973596414114224'\n",
      "  '0.855681786307459' '2' '1' '6' '6']]\n"
     ]
    }
   ],
   "source": [
    "import rmcalyse\n",
    "from rmcalyse import rmc_data\n",
    "from plugins.distance_calculations import distance_calculator"
   ]
  },
  {
   "cell_type": "code",
   "execution_count": 2,
   "metadata": {
    "collapsed": true
   },
   "outputs": [],
   "source": [
    "import numpy as np\n",
    "import matplotlib.pyplot as plt\n",
    "import time"
   ]
  },
  {
   "cell_type": "code",
   "execution_count": 3,
   "metadata": {
    "collapsed": false
   },
   "outputs": [
    {
     "data": {
      "text/plain": [
       "True"
      ]
     },
     "execution_count": 3,
     "metadata": {},
     "output_type": "execute_result"
    }
   ],
   "source": [
    "# test distance calc import is working \n",
    "\n",
    "a = np.array([0,0,0])\n",
    "b = np.array([3,4,12])\n",
    "distance_calculator.eucledian_distance(a,b) == 13"
   ]
  },
  {
   "cell_type": "code",
   "execution_count": 4,
   "metadata": {
    "collapsed": false
   },
   "outputs": [
    {
     "data": {
      "text/plain": [
       "(array([['1', 'Pb'],\n",
       "        ['2', 'Pb'],\n",
       "        ['3', 'Pb'],\n",
       "        ['4', 'Pb'],\n",
       "        ['5', 'Pb'],\n",
       "        ['6', 'Pb'],\n",
       "        ['7', 'Pb'],\n",
       "        ['8', 'Pb'],\n",
       "        ['9', 'Pb'],\n",
       "        ['10', 'Pb']], dtype='<U17'),\n",
       " array([[28.01612458,  7.32741379, 13.74853319],\n",
       "        [20.19724864,  4.33931455,  4.49945487],\n",
       "        [15.25576196, 12.41764315, 31.36626833],\n",
       "        [ 4.40477919, 31.43810017, 20.42902155],\n",
       "        [-5.47502782, 37.78394345, 27.19030863],\n",
       "        [ 7.19968395, 20.73505752, 22.78071159],\n",
       "        [10.74803317,  4.14763275, 18.21494805],\n",
       "        [36.34097868, 31.79120755,  2.27578268],\n",
       "        [ 7.40798107, 15.54708618, 22.59397626],\n",
       "        [18.91495525,  1.1898463 ,  6.8266021 ]]))"
      ]
     },
     "execution_count": 4,
     "metadata": {},
     "output_type": "execute_result"
    }
   ],
   "source": [
    "position_labels = rmc_data.position_labels\n",
    "orthonormal_positions = rmc_data.orthonormal_positions\n",
    "position_labels[:10],orthonormal_positions[:10]"
   ]
  },
  {
   "cell_type": "code",
   "execution_count": 5,
   "metadata": {
    "collapsed": true
   },
   "outputs": [],
   "source": [
    "center_atom = ['O']\n",
    "orbit_atom = ['Ti']\n",
    "max_d = 4 # max distance for centroid polyhedra\n",
    "coordination_no = 8"
   ]
  },
  {
   "cell_type": "code",
   "execution_count": 6,
   "metadata": {
    "collapsed": false
   },
   "outputs": [
    {
     "data": {
      "image/png": "[encoded data removed]",
      "text/plain": [
       "<Figure size 432x288 with 1 Axes>"
      ]
     },
     "metadata": {
      "needs_background": "light"
     },
     "output_type": "display_data"
    }
   ],
   "source": [
    "center_atom_labels = []\n",
    "center_atom_positions = []\n",
    "\n",
    "orbit_atom_labels = []\n",
    "orbit_atom_positions = []\n",
    "\n",
    "for center_label, center_position in zip(position_labels, orthonormal_positions):\n",
    "    if center_atom in center_label:\n",
    "        polyhedra_labels = []\n",
    "        polyhedra_positions = []\n",
    "        polyhedra_labels.append(center_label[1])\n",
    "        polyhedra_positions.append(center_position)\n",
    "        for orbit_label, orbit_position in zip(position_labels, orthonormal_positions):\n",
    "            if orbit_atom in orbit_label and distance_calculator.eucledian_distance(center_position, orbit_position) < max_d:\n",
    "                polyhedra_labels.append(orbit_label[1])\n",
    "                polyhedra_positions.append(orbit_position)\n",
    "        \n",
    "        \n",
    "        center_atom_labels.append(polyhedra_labels[0])\n",
    "        center_atom_positions.append(polyhedra_positions[0])\n",
    "        \n",
    "        orbit_atom_labels.append(polyhedra_labels[1:])\n",
    "        orbit_atom_positions.append(polyhedra_positions[1:])\n",
    "\n",
    "lengths = []\n",
    "for i in orbit_atom_labels:\n",
    "    lengths.append(len(i))\n",
    "    \n",
    "bins = np.linspace(0,10,20)\n",
    "plt.hist(lengths, bins =bins)\n",
    "plt.show()"
   ]
  },
  {
   "cell_type": "code",
   "execution_count": 11,
   "metadata": {
    "collapsed": false
   },
   "outputs": [
    {
     "name": "stdout",
     "output_type": "stream",
     "text": [
      "total time taken 1.52333 s\n"
     ]
    }
   ],
   "source": [
    "# orthonormal_positions = np.array([[0, 0, 0], [0, 0, 0.75], [0, 0.75, 0.75], [0.75, 0.75, 0.75]]) # testing\n",
    "# position_labels = np.array([['1', 'A'], ['2', 'A'], ['3', 'A'], ['4', 'A']]) # testing\n",
    "# center_atom = ['A'] # testing\n",
    "\n",
    "def array_distance(positions_labels, orthonormal_positions):\n",
    "\n",
    "    positions = np.array([x for x in orthonormal_positions]) # want a numpy array of the positions\n",
    "    offset = rmc_data.cell_parameters[0]/2 # half a unit cell (helpfully it's cubic so don't need anything more complex than this)\n",
    "    positions -= offset # now the unit cell goes from -19 to 19\n",
    "    idx_of_interest = [i for i,x in enumerate(orthonormal_positions) if position_labels[i][1] in center_atom] # hack to find a list of indices we're interested in\n",
    "    results = np.zeros((positions.shape[0],3)) # predefine results array for speed\n",
    "    all_distances = []\n",
    "\n",
    "    t0 = time.perf_counter()\n",
    "    for i in idx_of_interest:\n",
    "        shifted = (positions - positions[i]) #shift all atoms so this one is at the origin\n",
    "        reshuffled = np.mod(shifted+offset, offset*2)-offset # the clever moving of atoms outside -19:19 back\n",
    "        distances  = np.power(np.square(reshuffled).sum(1),0.5) # calculate distances\n",
    "        idx = np.argsort(distances) # returns an array of sorted indices (i.e. distances[idx[0]] = 0, the distance from the atom to itself, distances[idx[1]] is somewthing like 2.5, etc.\n",
    "        results[i,:] = -np.mean(reshuffled[idx[1:7], :],0) #note we start at 1 to avoid the 0 for the same atom. Then average them. this calculates the central point so the displacements vector is -ve this\n",
    "        all_distances.append(distances)\n",
    "    runtime = round(time.perf_counter() - t0, 5)\n",
    "    print(f'total time taken {runtime} s')\n",
    "    return distances\n",
    "    \n",
    "\n",
    "distances_no = array_distance(position_labels, orthonormal_positions)"
   ]
  },
  {
   "cell_type": "code",
   "execution_count": 12,
   "metadata": {
    "collapsed": false
   },
   "outputs": [
    {
     "data": {
      "text/plain": [
       "array([25.61700929, 17.26216055, 13.55755667, 12.59896746, 14.97663746])"
      ]
     },
     "execution_count": 12,
     "metadata": {},
     "output_type": "execute_result"
    }
   ],
   "source": [
    "distances_no[:5]"
   ]
  },
  {
   "cell_type": "code",
   "execution_count": 13,
   "metadata": {
    "collapsed": false
   },
   "outputs": [
    {
     "name": "stdout",
     "output_type": "stream",
     "text": [
      "total time taken 1.57925 s\n"
     ]
    }
   ],
   "source": [
    "def array_distance_orthonormaliser(position_labels, raw_positions):\n",
    "    \n",
    "    positions = np.array([x for x in raw_positions]) # want a numpy array of the positions\n",
    "    \n",
    "    offset = 0.5 # half a unit cell (helpfully it's cubic so don't need anything more complex than this)\n",
    "    \n",
    "    positions -= offset # now the unit cell goes from -19 to 19\n",
    "    \n",
    "    idx_of_interest = [i for i,x in enumerate(raw_positions) if position_labels[i][1] in center_atom] # hack to find a list of indices we're interested in\n",
    "    \n",
    "    results = np.zeros((positions.shape[0],3)) # predefine results array for speed\n",
    "    all_distances = []\n",
    "\n",
    "    t0 = time.perf_counter()\n",
    "    \n",
    "    for i in idx_of_interest:\n",
    "        \n",
    "        shifted = (positions - positions[i]) #shift all atoms so this one is at the origin\n",
    "        \n",
    "        reshuffled = np.mod(shifted + offset, offset * 2) - offset # the clever moving of atoms outside -19:19 back\n",
    "        \n",
    "        reshuffled = np.dot(rmc_data.matrix, reshuffled.T).T\n",
    "        \n",
    "        distances  = np.power(np.square(reshuffled).sum(1),0.5) # calculate distances\n",
    "        \n",
    "        idx = np.argsort(distances) # returns an array of sorted indices (i.e. distances[idx[0]] = 0, the distance from the atom to itself, distances[idx[1]] is somewthing like 2.5, etc.\n",
    "        \n",
    "        results[i,:] = -np.mean(reshuffled[idx[1:7], :],0) #note we start at 1 to avoid the 0 for the same atom. Then average them. this calculates the central point so the displacements vector is -ve this\n",
    "        \n",
    "        all_distances.append(distances)\n",
    "    runtime = round(time.perf_counter() - t0, 5)\n",
    "    print(f'total time taken {runtime} s')\n",
    "    return distances\n",
    "\n",
    "distances_yo = array_distance_orthonormaliser(position_labels, rmc_data.raw_basis_positions)"
   ]
  },
  {
   "cell_type": "code",
   "execution_count": 14,
   "metadata": {
    "collapsed": false
   },
   "outputs": [
    {
     "data": {
      "text/plain": [
       "array([18.05270943, 14.39442607, 14.17455117, 12.59896746, 14.97663746])"
      ]
     },
     "execution_count": 14,
     "metadata": {},
     "output_type": "execute_result"
    }
   ],
   "source": [
    "distances_yo[:5]"
   ]
  },
  {
   "cell_type": "code",
   "execution_count": 15,
   "metadata": {
    "collapsed": false
   },
   "outputs": [
    {
     "name": "stdout",
     "output_type": "stream",
     "text": [
      "3920 3920\n"
     ]
    }
   ],
   "source": [
    "print(len(distances_yo), len(distances_no))"
   ]
  },
  {
   "cell_type": "code",
   "execution_count": null,
   "metadata": {
    "collapsed": true
   },
   "outputs": [],
   "source": []
  }
 ],
 "metadata": {
  "kernelspec": {
   "display_name": "rmcalyse_env",
   "language": "python",
   "name": "rmcalyse_env"
  },
  "language_info": {
   "codemirror_mode": {
    "name": "ipython",
    "version": 3
   },
   "file_extension": ".py",
   "mimetype": "text/x-python",
   "name": "python",
   "nbconvert_exporter": "python",
   "pygments_lexer": "ipython3",
   "version": "3.8.1"
  }
 },
 "nbformat": 4,
 "nbformat_minor": 0
}
