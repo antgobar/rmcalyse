{
 "cells": [
  {
   "cell_type": "code",
   "execution_count": 15,
   "metadata": {
    "collapsed": true
   },
   "outputs": [],
   "source": [
    "import numpy as np\n",
    "import matplotlib.pyplot as plt\n",
    "import time as t"
   ]
  },
  {
   "cell_type": "code",
   "execution_count": 16,
   "metadata": {
    "collapsed": false
   },
   "outputs": [],
   "source": [
    "### Distance functions\n",
    "\n",
    "# Nested loop\n",
    "# For every atom look at the distance to every atom\n",
    "def ed_nested(positions):\n",
    "    distances = []    \n",
    "    for positionA in positions:\n",
    "            a = np.array(positionA)\n",
    "            for positionB in positions:\n",
    "                b = np.array(positionB)\n",
    "                distance = np.linalg.norm(a-b)\n",
    "                distances.append(distance)\n",
    "    return distances\n",
    "\n",
    "# Matrix mult\n",
    "# For every atom apply matrix multiplication to entire atom array\n",
    "def ed_matrix(positions):\n",
    "    distances  = []\n",
    "    for position in positions:\n",
    "        net = position - positions\n",
    "        s = np.dot(net, net.T)\n",
    "        distance = np.diagonal(np.sqrt(np.sqrt(s**2)))\n",
    "        distances.append(distance)\n",
    "    \n",
    "    return distances"
   ]
  },
  {
   "cell_type": "code",
   "execution_count": 17,
   "metadata": {
    "collapsed": false
   },
   "outputs": [],
   "source": [
    "# timing function\n",
    "def time_funcs(max_atoms, step):\n",
    "    '''\n",
    "    Function to time ed_nested() and ed_matrix distance functions\n",
    "    Args:\n",
    "        max_atoms: max number of atoms from which to calculate interatomic distances\n",
    "        step: increment size in number of atoms up to max_atoms\n",
    "        \n",
    "    '''\n",
    "    \n",
    "    times_nested = []\n",
    "    times_matrix = []\n",
    "    \n",
    "    iterations = range(1, max_atoms + step, step)\n",
    "    \n",
    "    for i in iterations:\n",
    "        positions = np.random.rand(i,3)\n",
    "        \n",
    "        start_nested = t.time()\n",
    "        d = ed_nested(positions)\n",
    "        total_nested = t.time() - start_nested\n",
    "        times_nested.append(total_nested)\n",
    "        \n",
    "        \n",
    "        start_matrix = t.time()\n",
    "        d = ed_matrix(positions)\n",
    "        total_matrix = t.time() - start_matrix\n",
    "        times_matrix.append(total_matrix)\n",
    "    \n",
    "    atom_number = list(iterations)\n",
    "    \n",
    "    return atom_number, times_nested, times_matrix    "
   ]
  },
  {
   "cell_type": "code",
   "execution_count": 22,
   "metadata": {
    "collapsed": false
   },
   "outputs": [],
   "source": [
    "# run timing function\n",
    "atom_number, times_nested, times_matrix = time_funcs(2000, 200)"
   ]
  },
  {
   "cell_type": "code",
   "execution_count": 26,
   "metadata": {
    "collapsed": false
   },
   "outputs": [
    {
     "data": {
      "image/png": "[encoded data removed]",
      "text/plain": [
       "<Figure size 432x288 with 1 Axes>"
      ]
     },
     "metadata": {
      "needs_background": "light"
     },
     "output_type": "display_data"
    }
   ],
   "source": [
    "# plot results\n",
    "\n",
    "total_time = round((sum(times_nested) + sum(times_matrix))/60, 2)\n",
    "\n",
    "unit_cell_no = np.array(atom_number) / 5\n",
    "supercell_size = unit_cell_no ** (1/3)\n",
    "\n",
    "# comparing data to determine a crossover \n",
    "# doesn't work at low atom numbers\n",
    "abs_diff = abs(np.log(times_nested) - np.log(times_matrix)).tolist()\n",
    "cross_over = atom_number[abs_diff.index(min(abs_diff))]\n",
    "\n",
    "\n",
    "plt.plot(atom_number, times_nested, label = 'nested')\n",
    "plt.plot(atom_number, times_matrix, label = 'matrix')\n",
    "plt.xlabel('no of atoms')\n",
    "plt.ylabel('time taken (s)')\n",
    "plt.yscale('log')\n",
    "plt.legend()\n",
    "plt.title(f'''total time to calculate all interatomic distances\n",
    "= {total_time} min\n",
    "crossover ~{cross_over} atoms''')\n",
    "plt.show()"
   ]
  },
  {
   "cell_type": "code",
   "execution_count": null,
   "metadata": {
    "collapsed": false
   },
   "outputs": [
    {
     "name": "stderr",
     "output_type": "stream",
     "text": [
      "<ipython-input-5-4314d9db75e7>:72: RuntimeWarning: invalid value encountered in sqrt\n",
      "  distance =np.diagonal(np.sqrt(vector @ g @ vector.transpose()))\n"
     ]
    }
   ],
   "source": [
    "###------------------------------------------------------------------------\n",
    "###\n",
    "### Program to copute interatomic distances from a non-orthonomal basis\n",
    "###\n",
    "###------------------------------------------------------------------------\n",
    "\n",
    "# Import relevant libraries\n",
    "\n",
    "import numpy as np\n",
    "\n",
    "\n",
    "\n",
    "# Lattice parameters - unit cell length and angles\n",
    "a = 1\n",
    "b = 1\n",
    "c = 1\n",
    "\n",
    "al = np.deg2rad(90)\n",
    "be = np.deg2rad(90)\n",
    "ga = np.deg2rad(90)\n",
    "\n",
    "\n",
    "# Atomic positions\n",
    "atomA = np.array([[0, 0, 0]]) # [0, 0, 0] for vector origin\n",
    "atomB = np.array([[0, 0, 1]]) # position of iterest (fractional)\n",
    "atomC = np.array([[0, 1, 0]]) # 2nd position of interest (mainly for angle calcs)\n",
    "\n",
    "# Vector or  positions relative to atomA \n",
    "\n",
    "vBA = atomB - atomA\n",
    "vCA = atomC - atomA\n",
    "vBC = atomB - atomC\n",
    "\n",
    "# Triclinic Metric Tensor\n",
    "g=np.array([[a ** 2, a * b * np.cos(ga), a * c * np.cos(be)], \\\n",
    "[b * a * np.cos(ga),b ** 2 , b * c * np.cos(al)], \\\n",
    "[c * a * np.cos(be), c * b * np.cos(al), c ** 2]])\n",
    "\n",
    "# Orthonormal distance between atoms (matrix multiplication)\n",
    "dBA = (vBA @ g @ vBA.transpose())**0.5\n",
    "dCA = (vCA @ g @ vCA.transpose())**0.5\n",
    "dBC = (vBC @ g @ vBC.transpose())**0.5\n",
    "\n",
    "# dot product between B and C (matrix multiplication)\n",
    "dpBC = vBA @ g @ vCA.transpose()\n",
    "\n",
    "##print('Metric tensor', g, sep = '\\n')\n",
    "##print('Distance B to A: ',str(dBA).replace('[','').replace(']',''))\n",
    "##print('Distance C to A: ',str(dCA).replace('[','').replace(']',''))\n",
    "##print('Distance B to C: ',str(dBC).replace('[','').replace(']',''))\n",
    "##\n",
    "##\n",
    "##\n",
    "##if np.array_equal(atomA, atomB) or np.array_equal(atomA, atomC):\n",
    "##    angleCAB = 'B or C cannot equal A!'\n",
    "##else:\n",
    "##    angleCAB = np.rad2deg(np.arccos(dpBC / (((dBA ** 2) * (dCA ** 2)) ** 0.5)))\n",
    "##\n",
    "##print('Angle between B and C: ',str(angleCAB).replace('[','').replace(']',''))\n",
    "\n",
    "no_atoms = 5000\n",
    "\n",
    "atom_list = np.random.rand(no_atoms,3)\n",
    "\n",
    "distances = []\n",
    "import time as t\n",
    "\n",
    "start = t.time()\n",
    "\n",
    "for atom in atom_list:\n",
    "\tvector = atom - atom_list\n",
    "\tdistance =np.diagonal(np.sqrt(vector @ g @ vector.transpose()))\n",
    "\tdistances.append(distance)\n",
    "\n",
    "runtime = t.time() - start\n",
    "\n",
    "print(f'total time {runtime}')\n",
    "\n"
   ]
  },
  {
   "cell_type": "code",
   "execution_count": null,
   "metadata": {
    "collapsed": true
   },
   "outputs": [],
   "source": []
  }
 ],
 "metadata": {
  "kernelspec": {
   "display_name": "Python 3",
   "language": "python",
   "name": "python3"
  },
  "language_info": {
   "codemirror_mode": {
    "name": "ipython",
    "version": 3
   },
   "file_extension": ".py",
   "mimetype": "text/x-python",
   "name": "python",
   "nbconvert_exporter": "python",
   "pygments_lexer": "ipython3",
   "version": "3.8.1"
  }
 },
 "nbformat": 4,
 "nbformat_minor": 4
}
